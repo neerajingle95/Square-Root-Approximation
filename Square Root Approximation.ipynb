{
 "cells": [
  {
   "cell_type": "markdown",
   "id": "c855130b",
   "metadata": {},
   "source": [
    "# Square Root Approximation\n",
    "What arised as a \"meme\" resulted in a semi-deep dive into the world of programming and visualisation. In this mini-project, we will look at a handy approximation for calculating the square root of a number and compare the performances of the square roots with the approximations for each value. In the below image, Y is the nearest perfect square to a given number X."
   ]
  },
  {
   "cell_type": "markdown",
   "id": "6c74ba70",
   "metadata": {},
   "source": [
    "<img src=\"Square_Root_Approximation.jpeg\" width=\"400px\">"
   ]
  },
  {
   "cell_type": "code",
   "execution_count": 1,
   "id": "41eb53e9",
   "metadata": {
    "scrolled": true
   },
   "outputs": [],
   "source": [
    "import numpy as np\n",
    "import matplotlib.pyplot as plt\n",
    "\n",
    "import math"
   ]
  },
  {
   "cell_type": "code",
   "execution_count": 2,
   "id": "27293190",
   "metadata": {
    "scrolled": true
   },
   "outputs": [],
   "source": [
    "# Choosing a very small range as the difference between the two plots can't be noticed for larger values.\n",
    "x = np.arange(1, 11)\n",
    "# x = np.arange(1, 1001)\n",
    "\n",
    "# x"
   ]
  },
  {
   "cell_type": "code",
   "execution_count": 3,
   "id": "989ffdb5",
   "metadata": {},
   "outputs": [
    {
     "data": {
      "text/plain": [
       "numpy.ndarray"
      ]
     },
     "execution_count": 3,
     "metadata": {},
     "output_type": "execute_result"
    }
   ],
   "source": [
    "type(x)"
   ]
  },
  {
   "cell_type": "code",
   "execution_count": 4,
   "id": "41c72eae",
   "metadata": {},
   "outputs": [],
   "source": [
    "# Square roots of values\n",
    "y = x ** 0.5\n",
    "# y"
   ]
  },
  {
   "cell_type": "markdown",
   "id": "0f699f1e",
   "metadata": {},
   "source": [
    "#### [Code source for the function defined below:](https://www.geeksforgeeks.org/find-the-nearest-perfect-square-for-each-element-of-the-array/)"
   ]
  },
  {
   "cell_type": "code",
   "execution_count": 5,
   "id": "82a2d27d",
   "metadata": {},
   "outputs": [],
   "source": [
    "# Defining a function to calculate the nearest perfect square to a given number\n",
    "def nearestPerfectSquare(arr, N):\n",
    "    list_of_squares = []\n",
    "    \n",
    "    # Traverse the array\n",
    "    for i in range(0, N):\n",
    " \n",
    "        # Calculate square root of current element\n",
    "        sr = math.floor(math.sqrt(arr[i]))\n",
    " \n",
    "        # Calculate perfect squares\n",
    "        a = sr * sr\n",
    "        b = (sr + 1) * (sr + 1)\n",
    " \n",
    "        # Find the nearest\n",
    "        if ((arr[i] - a) < (b - arr[i])):\n",
    "           list_of_squares.append(a)\n",
    "        else :\n",
    "           list_of_squares.append(b)\n",
    "        \n",
    "    return list_of_squares\n",
    "         \n",
    "# Driver Code\n",
    "# arr =  [5, 2, 7, 13]\n",
    "# N = len(arr)"
   ]
  },
  {
   "cell_type": "code",
   "execution_count": 6,
   "id": "d6a9bdbd",
   "metadata": {},
   "outputs": [],
   "source": [
    "list_of_squares = nearestPerfectSquare(x, len(x))\n",
    "# list_of_squares"
   ]
  },
  {
   "cell_type": "code",
   "execution_count": 7,
   "id": "701522b8",
   "metadata": {
    "scrolled": true
   },
   "outputs": [],
   "source": [
    "# Nearest perfect squares\n",
    "array_of_squares = np.array(list_of_squares)\n",
    "# array_of_squares"
   ]
  },
  {
   "cell_type": "code",
   "execution_count": 8,
   "id": "06bc5808",
   "metadata": {},
   "outputs": [],
   "source": [
    "# Right-hand side of the equation in the image provided at the top\n",
    "z = (x + array_of_squares) / (2 * (array_of_squares) ** 0.5)\n",
    "# z"
   ]
  },
  {
   "cell_type": "code",
   "execution_count": 9,
   "id": "54d034be",
   "metadata": {
    "scrolled": false
   },
   "outputs": [
    {
     "data": {
      "text/plain": [
       "<matplotlib.legend.Legend at 0x28f64771670>"
      ]
     },
     "execution_count": 9,
     "metadata": {},
     "output_type": "execute_result"
    },
    {
     "data": {
      "image/png": "[encoded data removed]",
      "text/plain": [
       "<Figure size 720x432 with 1 Axes>"
      ]
     },
     "metadata": {
      "needs_background": "light"
     },
     "output_type": "display_data"
    }
   ],
   "source": [
    "# Plotting the square root against the approximation\n",
    "fig, ax = plt.subplots(figsize=(10,6))\n",
    "\n",
    "ax.plot(x, y, label=\"Square Root\")\n",
    "# ax.plot(x, math.sqrt(x)) # This gives an error.\n",
    "\n",
    "ax.plot(x, z, label=\"Approximated Square Root\")\n",
    "\n",
    "ax.legend()"
   ]
  },
  {
   "cell_type": "markdown",
   "id": "89c2e072",
   "metadata": {},
   "source": [
    "## Conclusion\n",
    "Let's stop for now. There is so much more we can do going from here! The graphs look very similar to one another. Clearly, there is a scope for using improved visualisations which can demonstrate the differences between the two graphs in a better way. Let's list some possibilites for exploration:\n",
    "- Try different types of visualisations to compare the behaviour of the approximation to the actual square root for large values. For example, x = np.arange(1, 1001).\n",
    "- Find the difference between the approximation and the square root for each number and examine its behaviour.\n",
    "- In the equation given in the image, Y is the nearest perfect square to a given number. Let's consider another approximation where Y is the second-nearest perfect square to the number. How do the two approximations compare to each other and to the square root function itself?\n",
    "\n",
    "#### An example for the third point mentioned above:\n",
    "Let's consider 13. The first approximation will take the nearest perfect square as 16, while the second approximation will have the nearest perfect square as 9.\n",
    "\n",
    "## Credits\n",
    "- **Ayush Agarwal**: For sending this \"meme\" and inspiring a spirited discussion by asking the right questions.\n",
    "- **Vibhor Joshi**, **Kshitiz Pandey** and **Utkarsh Sinha**: For their valuable inputs on calculating the nearest perfect square for a given number."
   ]
  }
 ],
 "metadata": {
  "kernelspec": {
   "display_name": "Python 3",
   "language": "python",
   "name": "python3"
  },
  "language_info": {
   "codemirror_mode": {
    "name": "ipython",
    "version": 3
   },
   "file_extension": ".py",
   "mimetype": "text/x-python",
   "name": "python",
   "nbconvert_exporter": "python",
   "pygments_lexer": "ipython3",
   "version": "3.8.8"
  }
 },
 "nbformat": 4,
 "nbformat_minor": 5
}
